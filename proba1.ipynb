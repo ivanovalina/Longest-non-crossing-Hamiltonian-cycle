{
 "cells": [
  {
   "cell_type": "code",
   "execution_count": 2,
   "id": "9c371856-6833-49bb-af89-f170b81cd32b",
   "metadata": {},
   "outputs": [],
   "source": [
    "import numpy as np"
   ]
  },
  {
   "cell_type": "code",
   "execution_count": 3,
   "id": "7687eb33-9625-4f1e-96c4-4730763af174",
   "metadata": {},
   "outputs": [],
   "source": [
    "import math"
   ]
  },
  {
   "cell_type": "code",
   "execution_count": 4,
   "id": "f725d977-7027-4f31-897e-7b1721960a5f",
   "metadata": {},
   "outputs": [],
   "source": [
    "import random"
   ]
  },
  {
   "cell_type": "markdown",
   "id": "4f5c5842-9f55-4182-b637-46d669171fbf",
   "metadata": {},
   "source": [
    "# Naslov"
   ]
  },
  {
   "cell_type": "markdown",
   "id": "4f40e31a-1574-4858-82e8-63f9d227082a",
   "metadata": {},
   "source": [
    "A geometric graph G is a pair (V, E) where V is a finite set of points in general position\n",
    "in the plane, and E is a set set of segments (edges) connecting points in V . The length of\n",
    "G, denoted L(G), is the sum of the Euclidean lengths of all edges in G. The graph G is said\n",
    "to be non-crossing if its edges have pairwise disjoint interiors\n",
    "https://arxiv.org/pdf/0909.4094.pdf"
   ]
  },
  {
   "cell_type": "markdown",
   "id": "8c10176e-903a-4923-988a-8d07c5e6fc24",
   "metadata": {},
   "source": [
    "A planar graph is a graph that can be drawn on the plane in such a way that its edges intersect\n",
    "only at their endpoints. A planar straight-line graph is an embedding of a planar graph in\n",
    "the plane such that its edges are mapped into straight line segments.\n",
    "https://arxiv.org/pdf/0911.3352.pdf"
   ]
  },
  {
   "cell_type": "markdown",
   "id": "81e57a35-46bc-4794-91f2-700eaab9b9d9",
   "metadata": {},
   "source": [
    "Let P be a set of n points in general position in the plane with no three points being collinear. A geometric\n",
    "graph is a graph G = (P, E) that consists of a set of vertices P, which are points in the plane, and a set of\n",
    "edges, E, which are straight-line segments whose endpoints belong to P. A complete geometric graph Kn is\n",
    "a geometric graph on a set P of n points that has an edge joining every pair of points in P.\n",
    "A geometric graph is said to be plane (or non-crossing) if its edges do not cross each other.\n",
    "\n",
    "https://www.pmf.ni.ac.rs/filomat-content/2019/33-6/33-6-7-6771.pdf"
   ]
  },
  {
   "cell_type": "markdown",
   "id": "9f190b5f-2614-4152-9cd9-8467fa67f5d0",
   "metadata": {},
   "source": [
    "We say that two line segments in the plane cross each other if they have a point in common\n",
    "that is interior to both edges. Two line segments are non-crossing if they do not cross. Note\n",
    "that two non-crossing line segments may share an endpoint. A geometric graph is said to be\n",
    "plane if its edges do not cross, and non-plane, otherwise\n",
    "\n",
    "A graph is planar if and only if it does not contain K5 (the complete graph on 5 vertices) or\n",
    "K3,3 (the complete bipartite graph on six vertices partitioned into two parts each of size 3) as\n",
    "a minor.\n",
    "\n",
    "https://arxiv.org/pdf/1809.10737.pdf"
   ]
  },
  {
   "cell_type": "markdown",
   "id": "303cbbec-34d7-4e15-b326-20945e74ccd5",
   "metadata": {},
   "source": [
    "Theorem 1 (Kuratowski’s theorem). A finite graph is planar if and only if\n",
    "it contains no subgraph that is a subdivision of K5 or K3,3."
   ]
  },
  {
   "cell_type": "markdown",
   "id": "642477d6-f3c9-4793-8c01-4cf0b8b8411c",
   "metadata": {},
   "source": [
    "# Oznake\n",
    "\n",
    "Z P bova označila množico sestavljena iz n točk, ki so podani random v ravnini. Vsaka točka bo označena z $ a_{i} = (x_{i}, y_{i}) \\in \\mathbb{R}$, $i \\in {1, 2, \\cdots, n}$. Povezava $uv$ predstavlja povezava od točke $a_{i} \\in P$ do $a_{j} \\in P$. Definiramo še razdalja med dvema točkama kot: $ r = |a_{i} - a_{j}| $. Z $f(a_{i}, a_{j})$ zapišemo daljico med $a_{i}$ in $a_{j}$."
   ]
  },
  {
   "cell_type": "markdown",
   "id": "e8bcad58-e284-470b-a17a-f1666da9517b",
   "metadata": {},
   "source": [
    "# Razdalja med dvema točkama v ravnini\n",
    "\n",
    "Funkcija $distance$ nam vrne razdalja med dvema točkami $a_{1}$ in $a_{2}$ v ravnini."
   ]
  },
  {
   "cell_type": "code",
   "execution_count": 1,
   "id": "b541ff84-65b3-460c-a685-2a6ad74ab53a",
   "metadata": {},
   "outputs": [],
   "source": [
    "def distance(p, q):\n",
    "    R = math.sqrt((p[0] - q[0])**2 + (p[1] - q[1])**2)\n",
    "    return(R)"
   ]
  },
  {
   "cell_type": "code",
   "execution_count": 6,
   "id": "eb7d767b-2238-48ec-94f5-1b8419f6df0a",
   "metadata": {},
   "outputs": [
    {
     "data": {
      "text/plain": [
       "1.4142135623730951"
      ]
     },
     "execution_count": 6,
     "metadata": {},
     "output_type": "execute_result"
    }
   ],
   "source": [
    "p = [1,2]\n",
    "q = [2,3]\n",
    "\n",
    "distance(p,q)"
   ]
  },
  {
   "cell_type": "markdown",
   "id": "3325c629-67b6-4527-9e4a-e55e842ba383",
   "metadata": {},
   "source": [
    "Funkcija $intersection$ preveri ali se povezave med tockami $a_{1}$, $a_{2}$ in $a_{3}$, $a_{4}$ sekata. Funkcija vrne $TRUE$ ce se sekata in $FALSE$ sicer"
   ]
  },
  {
   "cell_type": "markdown",
   "id": "7d6262d3-3d7e-46b2-b0e9-ecefea0a7602",
   "metadata": {},
   "source": [
    "# Intersection of two line segments"
   ]
  },
  {
   "cell_type": "markdown",
   "id": "981cf171-d433-4408-8f4c-3102410daac6",
   "metadata": {},
   "source": []
  },
  {
   "cell_type": "markdown",
   "id": "9dc9389d-eb0c-46a1-880e-c8e3e20fbdf9",
   "metadata": {},
   "source": [
    "Orientation: http://www.dcs.gla.ac.uk/~pat/52233/slides/Geometry1x1.pdf\n",
    "\n",
    "Function orientation: https://www.kite.com/python/answers/how-to-check-if-two-line-segments-intersect-in-python"
   ]
  },
  {
   "cell_type": "code",
   "execution_count": 16,
   "id": "b4ea6476-5246-4e43-8e02-869a4c799bb5",
   "metadata": {},
   "outputs": [],
   "source": [
    "def orientation(p, q, r):\n",
    "    \n",
    "    # return 0/1/-1 for colinear/clockwise/counterclockwise\n",
    "\n",
    "    val = ((q[1] - p[1]) * (r[0] - q[0])) - ((q[0] - p[0]) * (r[1] - q[1]))\n",
    "    \n",
    "    if val == 0 : \n",
    "        return 0\n",
    "    elif val > 0:\n",
    "        return 1\n",
    "    else:\n",
    "        return -1"
   ]
  },
  {
   "cell_type": "code",
   "execution_count": 36,
   "id": "b20b8dc0-ce5d-4c1a-a337-fe31fbf47081",
   "metadata": {},
   "outputs": [
    {
     "name": "stdout",
     "output_type": "stream",
     "text": [
      "-1\n",
      "1\n"
     ]
    }
   ],
   "source": [
    "# primer\n",
    "p = [1,1]\n",
    "q = [5,2]\n",
    "r = [3,5]\n",
    "print(orientation(p,q,r))\n",
    "\n",
    "p = [1,3]\n",
    "q = [3,3]\n",
    "r = [2,2]\n",
    "print(orientation(p,q,r))"
   ]
  },
  {
   "cell_type": "code",
   "execution_count": 33,
   "id": "db2db7ec-0282-4056-9636-8d178f0febcb",
   "metadata": {},
   "outputs": [],
   "source": [
    "def on_segment(p, q, r):\n",
    "\n",
    "    # check if r lies on (p,q)\n",
    "    \n",
    "    # r[0] je v intervalu (min(p[0], q[0]), max(p[0], q[0])) in\n",
    "    # r[1] je v intervalu (min(p[1], q[1]), max(p[1], q[1]))\n",
    "\n",
    "    if r[0] <= max(p[0], q[0]) and r[0] >= min(p[0], q[0]) and r[1] <= max(p[1], q[1]) and r[1] >= min(p[1], q[1]):\n",
    "        return True\n",
    "    return False"
   ]
  },
  {
   "cell_type": "code",
   "execution_count": 35,
   "id": "c03eb5a4-6144-4b21-b795-fd3d0040344e",
   "metadata": {},
   "outputs": [
    {
     "name": "stdout",
     "output_type": "stream",
     "text": [
      "False\n",
      "True\n"
     ]
    }
   ],
   "source": [
    "# primer\n",
    "p = [1,1]\n",
    "q = [3,1]\n",
    "r = [4,1]\n",
    "print(on_segment(p, q, r))\n",
    "\n",
    "p = [1,1]\n",
    "q = [4,1]\n",
    "r = [3,1]\n",
    "print(on_segment(p, q, r))"
   ]
  },
  {
   "cell_type": "code",
   "execution_count": 37,
   "id": "0e163c9e-ca8f-451b-887e-2c8653573739",
   "metadata": {},
   "outputs": [],
   "source": [
    "def intersects(seg1, seg2):\n",
    "\n",
    "    # check if seg1 and seg2 intersect\n",
    "    # seg1 = (p1, p2) = ((p1[0], p1[1]), ((p2[0], p2[1]))\n",
    "    # seg2 = (p3, p4) = ((p3[0], p3[1]), ((p4[0], p4[1]))\n",
    "    \n",
    "    # get the points\n",
    "    p1, q1 = seg1\n",
    "    p2, q2 = seg2\n",
    "\n",
    "    # find all orientations\n",
    "    \n",
    "    o1 = orientation(p1, q1, p2)\n",
    "    o2 = orientation(p1, q1, q2)\n",
    "    o3 = orientation(p2, q2, p1)\n",
    "    o4 = orientation(p2, q2, q1)\n",
    "\n",
    "    # check general case \n",
    "    # (p1, q1, p2) and (p1, q1, q2) have different orientations and\n",
    "    # (p2, q2, p1) and (p2, q2, p2) have different orientations\n",
    "    \n",
    "    if o1 != o2 and o3 != o4:\n",
    "        return True\n",
    "    \n",
    "    # check special cases\n",
    "    # (p1, q1, p2), (p1, q1, q2), (p2, q2, p1), (p2, q2, p2) are all collinear and\n",
    "    # the x-projections of (p1, q1) and (p2, q2) intersect and\n",
    "    # the y-projections of (p1, q1) and (p2, q2) intersect\n",
    "    \n",
    "    if o1 == 0 and on_segment(p1, q1, p2) : return True\n",
    "    if o2 == 0 and on_segment(p1, q1, q2) : return True\n",
    "    if o3 == 0 and on_segment(p2, q2, p1) : return True\n",
    "    if o4 == 0 and on_segment(p2, q2, q1) : return True\n",
    "\n",
    "    return False"
   ]
  },
  {
   "cell_type": "code",
   "execution_count": 41,
   "id": "8a606a59-eb32-4f92-b19a-2c9181459684",
   "metadata": {},
   "outputs": [
    {
     "name": "stdout",
     "output_type": "stream",
     "text": [
      "True\n",
      "False\n"
     ]
    }
   ],
   "source": [
    "# primer\n",
    "seg1 = ([1, 1], [5,5])\n",
    "seg2 = ([1,2], [3,2])\n",
    "print(intersects(seg1, seg2))\n",
    "\n",
    "seg1 = ([1, 1], [5,5])\n",
    "seg2 = ([2,1], [3,2])\n",
    "print(intersects(seg1, seg2))"
   ]
  },
  {
   "cell_type": "markdown",
   "id": "e5150cf1-2b1f-4494-ade6-17389c79da68",
   "metadata": {},
   "source": [
    "Link Hamilton ILP: https://cstheory.stackexchange.com/questions/16647/hamiltonian-cycle-as-an-integer-linear-programming-problem\n",
    "https://www.steinertriples.fr/ncohen/tut/LP_examples/"
   ]
  },
  {
   "cell_type": "code",
   "execution_count": 30,
   "id": "38c27054-b7bf-4017-99e9-223d871b6114",
   "metadata": {},
   "outputs": [],
   "source": [
    "def random_point(n):\n",
    "    \n",
    "    # returns n random points [a.bc, d.ef] on the interval [0, 9.99]x[0, 9.99]\n",
    "    \n",
    "    nodes = []\n",
    "    numbers = [0, 1, 2, 3, 4, 5, 6, 7, 8, 9]\n",
    "    \n",
    "    for i in range(n):\n",
    "        \n",
    "        a = random.choice(numbers)\n",
    "        b = random.choice(numbers)\n",
    "        c = random.choice(numbers)\n",
    "        d = random.choice(numbers)\n",
    "        e = random.choice(numbers)\n",
    "        f = random.choice(numbers)\n",
    "        \n",
    "        x = a + b * 1/10 + c * 1/100\n",
    "        y = d + e * 1/10 + f * 1/100\n",
    "        point = [x, y]\n",
    "        if point not in nodes:\n",
    "            nodes.append(point)\n",
    "            i += 1\n",
    "            \n",
    "    return nodes\n"
   ]
  },
  {
   "cell_type": "code",
   "execution_count": 27,
   "id": "a647b9ff-c055-4556-bff0-caf1e1df882a",
   "metadata": {},
   "outputs": [
    {
     "data": {
      "text/plain": [
       "[[6.23, 4.67],\n",
       " [5.26, 5.99],\n",
       " [3.57, 0.58],\n",
       " [1.52, 9.639999999999999],\n",
       " [8.19, 6.57],\n",
       " [2.9299999999999997, 6.4],\n",
       " [7.72, 0.12000000000000001],\n",
       " [4.48, 2.19],\n",
       " [2.82, 8.75],\n",
       " [9.850000000000001, 4.06]]"
      ]
     },
     "execution_count": 27,
     "metadata": {},
     "output_type": "execute_result"
    }
   ],
   "source": [
    "random_point(10)"
   ]
  },
  {
   "cell_type": "code",
   "execution_count": null,
   "id": "7232e844-8d1c-421e-9589-80a7cfdc042b",
   "metadata": {},
   "outputs": [],
   "source": []
  }
 ],
 "metadata": {
  "kernelspec": {
   "display_name": "SageMath 9.4",
   "language": "sage",
   "name": "sagemath-9.4"
  },
  "language_info": {
   "codemirror_mode": {
    "name": "ipython",
    "version": 3
   },
   "file_extension": ".py",
   "mimetype": "text/x-python",
   "name": "python",
   "nbconvert_exporter": "python",
   "pygments_lexer": "ipython3",
   "version": "3.9.5"
  }
 },
 "nbformat": 4,
 "nbformat_minor": 5
}
